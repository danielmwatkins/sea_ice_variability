{
 "cells": [
  {
   "cell_type": "markdown",
   "id": "2461df07-e506-47a8-8c46-84acef2e4dbf",
   "metadata": {},
   "source": [
    "# Estimating the sea ice concentration at buoy locations using the NSIDC Climate Data Record of Sea Ice Concentration\n",
    "\n",
    "The SIC data is stored in a netCDF file. The data has coordinates \"xgrid\" and \"ygrid\" that are in the North Polar Stereographic coordinate system. So to interpolate this to buoy positions, we'll need to first find the x, y positions of the buoys. In addition, the data is at daily resolution. We'll need to pull out the buoy position at 12 UTC for each day or use a daily average position (either is fine) to line up the data."
   ]
  },
  {
   "cell_type": "code",
   "execution_count": 4,
   "id": "0129f2e3-8be2-4887-b58f-3ffcce26f234",
   "metadata": {},
   "outputs": [],
   "source": [
    "import xarray as xr\n",
    "import pandas as pd\n",
    "import pyproj\n",
    "import os\n",
    "import sys\n",
    "import numpy as np\n",
    "\n",
    "# Add the path to icedrift package\n",
    "sys.path.append('/Users/aless/Desktop/icedrift/src')\n",
    "from icedrift.interpolation import interpolate_buoy_track\n",
    "\n",
    "# SIC data from NSIDC\n",
    "sic_data = xr.open_dataset('../NSIDC Sea Ice Concentration/nsidc_daily_sic_cdr_2020.nc')\n",
    "\n",
    "# Reformat NSIDC data for convenience with interpolation -- essentially renaming coordinates and dimensions\n",
    "ds = xr.Dataset({'sea_ice_concentration': (('time', 'y', 'x'), sic_data['cdr_seaice_conc'].data)},\n",
    "           coords={'time': ('time', pd.to_datetime(sic_data.time.data)),\n",
    "                   'x': ('x', sic_data['xgrid'].data),\n",
    "                   'y': ('y', sic_data['ygrid'].data)\n",
    "                 })"
   ]
  },
  {
   "cell_type": "code",
   "execution_count": 5,
   "id": "69058cfe-c3a1-46b6-8af8-e401e2a5010c",
   "metadata": {},
   "outputs": [],
   "source": [
    "def sic_along_track(position_data, sic_data):\n",
    "    \"\"\"Uses the xarray advanced interpolation to get along-track sic\n",
    "    via nearest neighbors.\"\"\"\n",
    "    # Sea ice concentration uses NSIDC NP Stereographic\n",
    "    crs0 = pyproj.CRS('WGS84')\n",
    "    crs1 = pyproj.CRS('+proj=stere +lat_0=90 +lat_ts=70 +lon_0=-45 +k=1 +x_0=0 +y_0=0 +a=6378273 +b=6356889.449 +units=m +no_defs')\n",
    "    transformer_stere = pyproj.Transformer.from_crs(crs0, crs_to=crs1, always_xy=True)\n",
    "    \n",
    "    sic = pd.Series(data=np.nan, index=position_data.index)\n",
    "    \n",
    "    for date, group in position_data.groupby(position_data.datetime.dt.date):\n",
    "        x_stere, y_stere = transformer_stere.transform(\n",
    "            group.longitude, group.latitude)\n",
    "        \n",
    "        x = xr.DataArray(x_stere, dims=\"z\")\n",
    "        y = xr.DataArray(y_stere, dims=\"z\")\n",
    "        SIC = sic_data.sel(time=date.strftime('%Y-%m-%d'))['sea_ice_concentration'].interp(\n",
    "            {'x': x,\n",
    "             'y': y}, method='nearest').data\n",
    "\n",
    "        sic.loc[group.index] = np.round(SIC.T, 3)\n",
    "    sic[sic > 100] = np.nan\n",
    "    return sic"
   ]
  },
  {
   "cell_type": "code",
   "execution_count": 6,
   "id": "209370ef-60b4-416c-9325-f017a73e7830",
   "metadata": {},
   "outputs": [],
   "source": [
    "# Load buoy data\n",
    "drift_tracks_loc = \"../data/buoy_data/n-ice2015/\"\n",
    "files = os.listdir(drift_tracks_loc)\n",
    "files = [f for f in files if f.split('.')[-1] == 'csv']\n",
    "files = [f for f in files if f.split('_')[0] != 'DN']\n",
    "buoy_data = {file.replace('.csv', '').split('_')[-1]: \n",
    "             pd.read_csv(drift_tracks_loc + file, index_col=0,\n",
    "                         parse_dates=True)\n",
    "             for file in files}\n",
    "buoy_data = {b: buoy_data[b] for b in buoy_data}"
   ]
  },
  {
   "cell_type": "code",
   "execution_count": 7,
   "id": "8626a354-30d3-47e6-80e3-047b3ea7374a",
   "metadata": {},
   "outputs": [],
   "source": [
    "# Interpolate to hourly\n",
    "buoy_data_interp = {}\n",
    "for b in buoy_data:\n",
    "    buoy_data_interp[b] = interpolate_buoy_track(buoy_data['2015c'], freq='1h', maxgap_minutes=240).loc[:, ['longitude', 'latitude']]"
   ]
  },
  {
   "cell_type": "code",
   "execution_count": 8,
   "id": "6a9f06cf-1f04-4837-8bb3-2c5dbd1deedd",
   "metadata": {},
   "outputs": [
    {
     "data": {
      "text/html": [
       "<div>\n",
       "<style scoped>\n",
       "    .dataframe tbody tr th:only-of-type {\n",
       "        vertical-align: middle;\n",
       "    }\n",
       "\n",
       "    .dataframe tbody tr th {\n",
       "        vertical-align: top;\n",
       "    }\n",
       "\n",
       "    .dataframe thead th {\n",
       "        text-align: right;\n",
       "    }\n",
       "</style>\n",
       "<table border=\"1\" class=\"dataframe\">\n",
       "  <thead>\n",
       "    <tr style=\"text-align: right;\">\n",
       "      <th></th>\n",
       "      <th>longitude</th>\n",
       "      <th>latitude</th>\n",
       "    </tr>\n",
       "    <tr>\n",
       "      <th>datetime</th>\n",
       "      <th></th>\n",
       "      <th></th>\n",
       "    </tr>\n",
       "  </thead>\n",
       "  <tbody>\n",
       "    <tr>\n",
       "      <th>2015-04-21 12:00:00</th>\n",
       "      <td>17.3098</td>\n",
       "      <td>83.0976</td>\n",
       "    </tr>\n",
       "    <tr>\n",
       "      <th>2015-04-22 12:00:00</th>\n",
       "      <td>17.8458</td>\n",
       "      <td>83.0172</td>\n",
       "    </tr>\n",
       "    <tr>\n",
       "      <th>2015-04-23 12:00:00</th>\n",
       "      <td>17.6644</td>\n",
       "      <td>82.9760</td>\n",
       "    </tr>\n",
       "    <tr>\n",
       "      <th>2015-04-24 12:00:00</th>\n",
       "      <td>16.5700</td>\n",
       "      <td>82.8976</td>\n",
       "    </tr>\n",
       "    <tr>\n",
       "      <th>2015-04-25 12:00:00</th>\n",
       "      <td>16.6114</td>\n",
       "      <td>82.7752</td>\n",
       "    </tr>\n",
       "  </tbody>\n",
       "</table>\n",
       "</div>"
      ],
      "text/plain": [
       "                     longitude  latitude\n",
       "datetime                                \n",
       "2015-04-21 12:00:00    17.3098   83.0976\n",
       "2015-04-22 12:00:00    17.8458   83.0172\n",
       "2015-04-23 12:00:00    17.6644   82.9760\n",
       "2015-04-24 12:00:00    16.5700   82.8976\n",
       "2015-04-25 12:00:00    16.6114   82.7752"
      ]
     },
     "execution_count": 8,
     "metadata": {},
     "output_type": "execute_result"
    }
   ],
   "source": [
    "# We can use the resample function to pull out the data at 12 UTC\n",
    "df_exmpl = buoy_data_interp[b].resample('24h', origin='12:00').asfreq().dropna()\n",
    "df_exmpl.head()"
   ]
  },
  {
   "cell_type": "code",
   "execution_count": 9,
   "id": "4aacc009-54bb-42a1-86d6-aa389493882f",
   "metadata": {},
   "outputs": [],
   "source": [
    "daily_list = {}\n",
    "for b in buoy_data_interp:\n",
    "    daily_list[b] = buoy_data_interp[b].resample('24h', origin='12:00').asfreq().dropna()\n",
    "    \n",
    "all_positions_daily = pd.concat(daily_list)"
   ]
  },
  {
   "cell_type": "code",
   "execution_count": 10,
   "id": "25f7dfdc-e365-4d9e-88c2-42f3a218d7ee",
   "metadata": {},
   "outputs": [],
   "source": [
    "# These steps make the index \"flat\" and change the name from the uninformative default value\n",
    "all_positions_daily.reset_index(drop=False, inplace=True)\n",
    "all_positions_daily.rename({'level_0': 'buoy_id'}, axis=1, inplace=True)"
   ]
  },
  {
   "cell_type": "code",
   "execution_count": 12,
   "id": "4186e488-8e64-47d5-91c5-04d8ea9c680c",
   "metadata": {},
   "outputs": [
    {
     "ename": "KeyError",
     "evalue": "\"not all values found in index 'time'. Try setting the `method` keyword argument (example: method='nearest').\"",
     "output_type": "error",
     "traceback": [
      "\u001b[0;31m---------------------------------------------------------------------------\u001b[0m",
      "\u001b[0;31mKeyError\u001b[0m                                  Traceback (most recent call last)",
      "File \u001b[0;32mindex.pyx:609\u001b[0m, in \u001b[0;36mpandas._libs.index.DatetimeEngine.get_loc\u001b[0;34m()\u001b[0m\n",
      "File \u001b[0;32mpandas/_libs/hashtable_class_helper.pxi:2606\u001b[0m, in \u001b[0;36mpandas._libs.hashtable.Int64HashTable.get_item\u001b[0;34m()\u001b[0m\n",
      "File \u001b[0;32mpandas/_libs/hashtable_class_helper.pxi:2630\u001b[0m, in \u001b[0;36mpandas._libs.hashtable.Int64HashTable.get_item\u001b[0;34m()\u001b[0m\n",
      "\u001b[0;31mKeyError\u001b[0m: 1429574400000000000",
      "\nDuring handling of the above exception, another exception occurred:\n",
      "\u001b[0;31mKeyError\u001b[0m                                  Traceback (most recent call last)",
      "File \u001b[0;32m~/miniconda3/envs/sea_ice_env/lib/python3.9/site-packages/pandas/core/indexes/base.py:3805\u001b[0m, in \u001b[0;36mIndex.get_loc\u001b[0;34m(self, key)\u001b[0m\n\u001b[1;32m   3804\u001b[0m \u001b[38;5;28;01mtry\u001b[39;00m:\n\u001b[0;32m-> 3805\u001b[0m     \u001b[38;5;28;01mreturn\u001b[39;00m \u001b[38;5;28;43mself\u001b[39;49m\u001b[38;5;241;43m.\u001b[39;49m\u001b[43m_engine\u001b[49m\u001b[38;5;241;43m.\u001b[39;49m\u001b[43mget_loc\u001b[49m\u001b[43m(\u001b[49m\u001b[43mcasted_key\u001b[49m\u001b[43m)\u001b[49m\n\u001b[1;32m   3806\u001b[0m \u001b[38;5;28;01mexcept\u001b[39;00m \u001b[38;5;167;01mKeyError\u001b[39;00m \u001b[38;5;28;01mas\u001b[39;00m err:\n",
      "File \u001b[0;32mindex.pyx:577\u001b[0m, in \u001b[0;36mpandas._libs.index.DatetimeEngine.get_loc\u001b[0;34m()\u001b[0m\n",
      "File \u001b[0;32mindex.pyx:611\u001b[0m, in \u001b[0;36mpandas._libs.index.DatetimeEngine.get_loc\u001b[0;34m()\u001b[0m\n",
      "\u001b[0;31mKeyError\u001b[0m: Timestamp('2015-04-21 00:00:00')",
      "\nThe above exception was the direct cause of the following exception:\n",
      "\u001b[0;31mKeyError\u001b[0m                                  Traceback (most recent call last)",
      "File \u001b[0;32m~/miniconda3/envs/sea_ice_env/lib/python3.9/site-packages/pandas/core/indexes/datetimes.py:630\u001b[0m, in \u001b[0;36mDatetimeIndex.get_loc\u001b[0;34m(self, key)\u001b[0m\n\u001b[1;32m    629\u001b[0m \u001b[38;5;28;01mtry\u001b[39;00m:\n\u001b[0;32m--> 630\u001b[0m     \u001b[38;5;28;01mreturn\u001b[39;00m \u001b[43mIndex\u001b[49m\u001b[38;5;241;43m.\u001b[39;49m\u001b[43mget_loc\u001b[49m\u001b[43m(\u001b[49m\u001b[38;5;28;43mself\u001b[39;49m\u001b[43m,\u001b[49m\u001b[43m \u001b[49m\u001b[43mkey\u001b[49m\u001b[43m)\u001b[49m\n\u001b[1;32m    631\u001b[0m \u001b[38;5;28;01mexcept\u001b[39;00m \u001b[38;5;167;01mKeyError\u001b[39;00m \u001b[38;5;28;01mas\u001b[39;00m err:\n",
      "File \u001b[0;32m~/miniconda3/envs/sea_ice_env/lib/python3.9/site-packages/pandas/core/indexes/base.py:3812\u001b[0m, in \u001b[0;36mIndex.get_loc\u001b[0;34m(self, key)\u001b[0m\n\u001b[1;32m   3811\u001b[0m         \u001b[38;5;28;01mraise\u001b[39;00m InvalidIndexError(key)\n\u001b[0;32m-> 3812\u001b[0m     \u001b[38;5;28;01mraise\u001b[39;00m \u001b[38;5;167;01mKeyError\u001b[39;00m(key) \u001b[38;5;28;01mfrom\u001b[39;00m \u001b[38;5;21;01merr\u001b[39;00m\n\u001b[1;32m   3813\u001b[0m \u001b[38;5;28;01mexcept\u001b[39;00m \u001b[38;5;167;01mTypeError\u001b[39;00m:\n\u001b[1;32m   3814\u001b[0m     \u001b[38;5;66;03m# If we have a listlike key, _check_indexing_error will raise\u001b[39;00m\n\u001b[1;32m   3815\u001b[0m     \u001b[38;5;66;03m#  InvalidIndexError. Otherwise we fall through and re-raise\u001b[39;00m\n\u001b[1;32m   3816\u001b[0m     \u001b[38;5;66;03m#  the TypeError.\u001b[39;00m\n",
      "\u001b[0;31mKeyError\u001b[0m: Timestamp('2015-04-21 00:00:00')",
      "\nThe above exception was the direct cause of the following exception:\n",
      "\u001b[0;31mKeyError\u001b[0m                                  Traceback (most recent call last)",
      "File \u001b[0;32m~/miniconda3/envs/sea_ice_env/lib/python3.9/site-packages/xarray/core/indexes.py:789\u001b[0m, in \u001b[0;36mPandasIndex.sel\u001b[0;34m(self, labels, method, tolerance)\u001b[0m\n\u001b[1;32m    788\u001b[0m \u001b[38;5;28;01mtry\u001b[39;00m:\n\u001b[0;32m--> 789\u001b[0m     indexer \u001b[38;5;241m=\u001b[39m \u001b[38;5;28;43mself\u001b[39;49m\u001b[38;5;241;43m.\u001b[39;49m\u001b[43mindex\u001b[49m\u001b[38;5;241;43m.\u001b[39;49m\u001b[43mget_loc\u001b[49m\u001b[43m(\u001b[49m\u001b[43mlabel_value\u001b[49m\u001b[43m)\u001b[49m\n\u001b[1;32m    790\u001b[0m \u001b[38;5;28;01mexcept\u001b[39;00m \u001b[38;5;167;01mKeyError\u001b[39;00m \u001b[38;5;28;01mas\u001b[39;00m e:\n",
      "File \u001b[0;32m~/miniconda3/envs/sea_ice_env/lib/python3.9/site-packages/pandas/core/indexes/datetimes.py:632\u001b[0m, in \u001b[0;36mDatetimeIndex.get_loc\u001b[0;34m(self, key)\u001b[0m\n\u001b[1;32m    631\u001b[0m \u001b[38;5;28;01mexcept\u001b[39;00m \u001b[38;5;167;01mKeyError\u001b[39;00m \u001b[38;5;28;01mas\u001b[39;00m err:\n\u001b[0;32m--> 632\u001b[0m     \u001b[38;5;28;01mraise\u001b[39;00m \u001b[38;5;167;01mKeyError\u001b[39;00m(orig_key) \u001b[38;5;28;01mfrom\u001b[39;00m \u001b[38;5;21;01merr\u001b[39;00m\n",
      "\u001b[0;31mKeyError\u001b[0m: '2015-04-21'",
      "\nThe above exception was the direct cause of the following exception:\n",
      "\u001b[0;31mKeyError\u001b[0m                                  Traceback (most recent call last)",
      "Cell \u001b[0;32mIn[12], line 1\u001b[0m\n\u001b[0;32m----> 1\u001b[0m all_positions_daily[\u001b[38;5;124m'\u001b[39m\u001b[38;5;124msea_ice_concentration\u001b[39m\u001b[38;5;124m'\u001b[39m] \u001b[38;5;241m=\u001b[39m \u001b[43msic_along_track\u001b[49m\u001b[43m(\u001b[49m\u001b[43mall_positions_daily\u001b[49m\u001b[43m,\u001b[49m\u001b[43m \u001b[49m\u001b[43mds\u001b[49m\u001b[43m)\u001b[49m\n",
      "Cell \u001b[0;32mIn[5], line 17\u001b[0m, in \u001b[0;36msic_along_track\u001b[0;34m(position_data, sic_data)\u001b[0m\n\u001b[1;32m     15\u001b[0m     x \u001b[38;5;241m=\u001b[39m xr\u001b[38;5;241m.\u001b[39mDataArray(x_stere, dims\u001b[38;5;241m=\u001b[39m\u001b[38;5;124m\"\u001b[39m\u001b[38;5;124mz\u001b[39m\u001b[38;5;124m\"\u001b[39m)\n\u001b[1;32m     16\u001b[0m     y \u001b[38;5;241m=\u001b[39m xr\u001b[38;5;241m.\u001b[39mDataArray(y_stere, dims\u001b[38;5;241m=\u001b[39m\u001b[38;5;124m\"\u001b[39m\u001b[38;5;124mz\u001b[39m\u001b[38;5;124m\"\u001b[39m)\n\u001b[0;32m---> 17\u001b[0m     SIC \u001b[38;5;241m=\u001b[39m \u001b[43msic_data\u001b[49m\u001b[38;5;241;43m.\u001b[39;49m\u001b[43msel\u001b[49m\u001b[43m(\u001b[49m\u001b[43mtime\u001b[49m\u001b[38;5;241;43m=\u001b[39;49m\u001b[43mdate\u001b[49m\u001b[38;5;241;43m.\u001b[39;49m\u001b[43mstrftime\u001b[49m\u001b[43m(\u001b[49m\u001b[38;5;124;43m'\u001b[39;49m\u001b[38;5;124;43m%\u001b[39;49m\u001b[38;5;124;43mY-\u001b[39;49m\u001b[38;5;124;43m%\u001b[39;49m\u001b[38;5;124;43mm-\u001b[39;49m\u001b[38;5;132;43;01m%d\u001b[39;49;00m\u001b[38;5;124;43m'\u001b[39;49m\u001b[43m)\u001b[49m\u001b[43m)\u001b[49m[\u001b[38;5;124m'\u001b[39m\u001b[38;5;124msea_ice_concentration\u001b[39m\u001b[38;5;124m'\u001b[39m]\u001b[38;5;241m.\u001b[39minterp(\n\u001b[1;32m     18\u001b[0m         {\u001b[38;5;124m'\u001b[39m\u001b[38;5;124mx\u001b[39m\u001b[38;5;124m'\u001b[39m: x,\n\u001b[1;32m     19\u001b[0m          \u001b[38;5;124m'\u001b[39m\u001b[38;5;124my\u001b[39m\u001b[38;5;124m'\u001b[39m: y}, method\u001b[38;5;241m=\u001b[39m\u001b[38;5;124m'\u001b[39m\u001b[38;5;124mnearest\u001b[39m\u001b[38;5;124m'\u001b[39m)\u001b[38;5;241m.\u001b[39mdata\n\u001b[1;32m     21\u001b[0m     sic\u001b[38;5;241m.\u001b[39mloc[group\u001b[38;5;241m.\u001b[39mindex] \u001b[38;5;241m=\u001b[39m np\u001b[38;5;241m.\u001b[39mround(SIC\u001b[38;5;241m.\u001b[39mT, \u001b[38;5;241m3\u001b[39m)\n\u001b[1;32m     22\u001b[0m sic[sic \u001b[38;5;241m>\u001b[39m \u001b[38;5;241m100\u001b[39m] \u001b[38;5;241m=\u001b[39m np\u001b[38;5;241m.\u001b[39mnan\n",
      "File \u001b[0;32m~/miniconda3/envs/sea_ice_env/lib/python3.9/site-packages/xarray/core/dataset.py:3171\u001b[0m, in \u001b[0;36mDataset.sel\u001b[0;34m(self, indexers, method, tolerance, drop, **indexers_kwargs)\u001b[0m\n\u001b[1;32m   3103\u001b[0m \u001b[38;5;250m\u001b[39m\u001b[38;5;124;03m\"\"\"Returns a new dataset with each array indexed by tick labels\u001b[39;00m\n\u001b[1;32m   3104\u001b[0m \u001b[38;5;124;03malong the specified dimension(s).\u001b[39;00m\n\u001b[1;32m   3105\u001b[0m \n\u001b[0;32m   (...)\u001b[0m\n\u001b[1;32m   3168\u001b[0m \n\u001b[1;32m   3169\u001b[0m \u001b[38;5;124;03m\"\"\"\u001b[39;00m\n\u001b[1;32m   3170\u001b[0m indexers \u001b[38;5;241m=\u001b[39m either_dict_or_kwargs(indexers, indexers_kwargs, \u001b[38;5;124m\"\u001b[39m\u001b[38;5;124msel\u001b[39m\u001b[38;5;124m\"\u001b[39m)\n\u001b[0;32m-> 3171\u001b[0m query_results \u001b[38;5;241m=\u001b[39m \u001b[43mmap_index_queries\u001b[49m\u001b[43m(\u001b[49m\n\u001b[1;32m   3172\u001b[0m \u001b[43m    \u001b[49m\u001b[38;5;28;43mself\u001b[39;49m\u001b[43m,\u001b[49m\u001b[43m \u001b[49m\u001b[43mindexers\u001b[49m\u001b[38;5;241;43m=\u001b[39;49m\u001b[43mindexers\u001b[49m\u001b[43m,\u001b[49m\u001b[43m \u001b[49m\u001b[43mmethod\u001b[49m\u001b[38;5;241;43m=\u001b[39;49m\u001b[43mmethod\u001b[49m\u001b[43m,\u001b[49m\u001b[43m \u001b[49m\u001b[43mtolerance\u001b[49m\u001b[38;5;241;43m=\u001b[39;49m\u001b[43mtolerance\u001b[49m\n\u001b[1;32m   3173\u001b[0m \u001b[43m\u001b[49m\u001b[43m)\u001b[49m\n\u001b[1;32m   3175\u001b[0m \u001b[38;5;28;01mif\u001b[39;00m drop:\n\u001b[1;32m   3176\u001b[0m     no_scalar_variables \u001b[38;5;241m=\u001b[39m {}\n",
      "File \u001b[0;32m~/miniconda3/envs/sea_ice_env/lib/python3.9/site-packages/xarray/core/indexing.py:193\u001b[0m, in \u001b[0;36mmap_index_queries\u001b[0;34m(obj, indexers, method, tolerance, **indexers_kwargs)\u001b[0m\n\u001b[1;32m    191\u001b[0m         results\u001b[38;5;241m.\u001b[39mappend(IndexSelResult(labels))\n\u001b[1;32m    192\u001b[0m     \u001b[38;5;28;01melse\u001b[39;00m:\n\u001b[0;32m--> 193\u001b[0m         results\u001b[38;5;241m.\u001b[39mappend(\u001b[43mindex\u001b[49m\u001b[38;5;241;43m.\u001b[39;49m\u001b[43msel\u001b[49m\u001b[43m(\u001b[49m\u001b[43mlabels\u001b[49m\u001b[43m,\u001b[49m\u001b[43m \u001b[49m\u001b[38;5;241;43m*\u001b[39;49m\u001b[38;5;241;43m*\u001b[39;49m\u001b[43moptions\u001b[49m\u001b[43m)\u001b[49m)\n\u001b[1;32m    195\u001b[0m merged \u001b[38;5;241m=\u001b[39m merge_sel_results(results)\n\u001b[1;32m    197\u001b[0m \u001b[38;5;66;03m# drop dimension coordinates found in dimension indexers\u001b[39;00m\n\u001b[1;32m    198\u001b[0m \u001b[38;5;66;03m# (also drop multi-index if any)\u001b[39;00m\n\u001b[1;32m    199\u001b[0m \u001b[38;5;66;03m# (.sel() already ensures alignment)\u001b[39;00m\n",
      "File \u001b[0;32m~/miniconda3/envs/sea_ice_env/lib/python3.9/site-packages/xarray/core/indexes.py:791\u001b[0m, in \u001b[0;36mPandasIndex.sel\u001b[0;34m(self, labels, method, tolerance)\u001b[0m\n\u001b[1;32m    789\u001b[0m                 indexer \u001b[38;5;241m=\u001b[39m \u001b[38;5;28mself\u001b[39m\u001b[38;5;241m.\u001b[39mindex\u001b[38;5;241m.\u001b[39mget_loc(label_value)\n\u001b[1;32m    790\u001b[0m             \u001b[38;5;28;01mexcept\u001b[39;00m \u001b[38;5;167;01mKeyError\u001b[39;00m \u001b[38;5;28;01mas\u001b[39;00m e:\n\u001b[0;32m--> 791\u001b[0m                 \u001b[38;5;28;01mraise\u001b[39;00m \u001b[38;5;167;01mKeyError\u001b[39;00m(\n\u001b[1;32m    792\u001b[0m                     \u001b[38;5;124mf\u001b[39m\u001b[38;5;124m\"\u001b[39m\u001b[38;5;124mnot all values found in index \u001b[39m\u001b[38;5;132;01m{\u001b[39;00mcoord_name\u001b[38;5;132;01m!r}\u001b[39;00m\u001b[38;5;124m. \u001b[39m\u001b[38;5;124m\"\u001b[39m\n\u001b[1;32m    793\u001b[0m                     \u001b[38;5;124m\"\u001b[39m\u001b[38;5;124mTry setting the `method` keyword argument (example: method=\u001b[39m\u001b[38;5;124m'\u001b[39m\u001b[38;5;124mnearest\u001b[39m\u001b[38;5;124m'\u001b[39m\u001b[38;5;124m).\u001b[39m\u001b[38;5;124m\"\u001b[39m\n\u001b[1;32m    794\u001b[0m                 ) \u001b[38;5;28;01mfrom\u001b[39;00m \u001b[38;5;21;01me\u001b[39;00m\n\u001b[1;32m    796\u001b[0m \u001b[38;5;28;01melif\u001b[39;00m label_array\u001b[38;5;241m.\u001b[39mdtype\u001b[38;5;241m.\u001b[39mkind \u001b[38;5;241m==\u001b[39m \u001b[38;5;124m\"\u001b[39m\u001b[38;5;124mb\u001b[39m\u001b[38;5;124m\"\u001b[39m:\n\u001b[1;32m    797\u001b[0m     indexer \u001b[38;5;241m=\u001b[39m label_array\n",
      "\u001b[0;31mKeyError\u001b[0m: \"not all values found in index 'time'. Try setting the `method` keyword argument (example: method='nearest').\""
     ]
    }
   ],
   "source": [
    "all_positions_daily['sea_ice_concentration'] = sic_along_track(all_positions_daily, ds)"
   ]
  },
  {
   "cell_type": "code",
   "execution_count": null,
   "id": "fa24c010-7335-4d3e-a73c-5da0c5a0a76d",
   "metadata": {},
   "outputs": [],
   "source": [
    "# If desired, you can now turn it back into a dictionary with buoy ID's as keys\n",
    "buoy_data_daily = {b: data for b, data in all_positions_daily.groupby('buoy_id')}"
   ]
  },
  {
   "cell_type": "code",
   "execution_count": null,
   "id": "46070924-d885-4012-a4cc-3cd47bbc36e6",
   "metadata": {},
   "outputs": [
    {
     "data": {
      "text/html": [
       "<div>\n",
       "<style scoped>\n",
       "    .dataframe tbody tr th:only-of-type {\n",
       "        vertical-align: middle;\n",
       "    }\n",
       "\n",
       "    .dataframe tbody tr th {\n",
       "        vertical-align: top;\n",
       "    }\n",
       "\n",
       "    .dataframe thead th {\n",
       "        text-align: right;\n",
       "    }\n",
       "</style>\n",
       "<table border=\"1\" class=\"dataframe\">\n",
       "  <thead>\n",
       "    <tr style=\"text-align: right;\">\n",
       "      <th></th>\n",
       "      <th>buoy_id</th>\n",
       "      <th>datetime</th>\n",
       "      <th>longitude</th>\n",
       "      <th>latitude</th>\n",
       "      <th>sea_ice_concentration</th>\n",
       "    </tr>\n",
       "  </thead>\n",
       "  <tbody>\n",
       "    <tr>\n",
       "      <th>0</th>\n",
       "      <td>2015c</td>\n",
       "      <td>2015-04-21 12:00:00</td>\n",
       "      <td>17.3098</td>\n",
       "      <td>83.0976</td>\n",
       "      <td>1.0</td>\n",
       "    </tr>\n",
       "    <tr>\n",
       "      <th>1</th>\n",
       "      <td>2015c</td>\n",
       "      <td>2015-04-22 12:00:00</td>\n",
       "      <td>17.8458</td>\n",
       "      <td>83.0172</td>\n",
       "      <td>1.0</td>\n",
       "    </tr>\n",
       "    <tr>\n",
       "      <th>2</th>\n",
       "      <td>2015c</td>\n",
       "      <td>2015-04-23 12:00:00</td>\n",
       "      <td>17.6644</td>\n",
       "      <td>82.9760</td>\n",
       "      <td>1.0</td>\n",
       "    </tr>\n",
       "    <tr>\n",
       "      <th>3</th>\n",
       "      <td>2015c</td>\n",
       "      <td>2015-04-24 12:00:00</td>\n",
       "      <td>16.5700</td>\n",
       "      <td>82.8976</td>\n",
       "      <td>1.0</td>\n",
       "    </tr>\n",
       "    <tr>\n",
       "      <th>4</th>\n",
       "      <td>2015c</td>\n",
       "      <td>2015-04-25 12:00:00</td>\n",
       "      <td>16.6114</td>\n",
       "      <td>82.7752</td>\n",
       "      <td>1.0</td>\n",
       "    </tr>\n",
       "  </tbody>\n",
       "</table>\n",
       "</div>"
      ],
      "text/plain": [
       "  buoy_id            datetime  longitude  latitude  sea_ice_concentration\n",
       "0   2015c 2015-04-21 12:00:00    17.3098   83.0976                    1.0\n",
       "1   2015c 2015-04-22 12:00:00    17.8458   83.0172                    1.0\n",
       "2   2015c 2015-04-23 12:00:00    17.6644   82.9760                    1.0\n",
       "3   2015c 2015-04-24 12:00:00    16.5700   82.8976                    1.0\n",
       "4   2015c 2015-04-25 12:00:00    16.6114   82.7752                    1.0"
      ]
     },
     "execution_count": 92,
     "metadata": {},
     "output_type": "execute_result"
    }
   ],
   "source": [
    "buoy_data_daily['2015c'].head()"
   ]
  },
  {
   "cell_type": "markdown",
   "id": "d7e289a7-c10f-4514-b42b-d750c8f76c91",
   "metadata": {},
   "source": [
    "Some things to note:\n",
    "- Sea ice concentration goes from 0 to 1.\n",
    "- The variable may have higher values: these are codes for different masks.\n",
    "  - 2.51 = pole hole (area with no satellite coverage near the north pole)\n",
    "  - 2.52 = lakes\n",
    "  - 2.53 = coast\n",
    "  - 2.54 = land\n",
    "  - 2.55 = missing"
   ]
  }
 ],
 "metadata": {
  "kernelspec": {
   "display_name": "Python 3 (ipykernel)",
   "language": "python",
   "name": "python3"
  },
  "language_info": {
   "codemirror_mode": {
    "name": "ipython",
    "version": 3
   },
   "file_extension": ".py",
   "mimetype": "text/x-python",
   "name": "python",
   "nbconvert_exporter": "python",
   "pygments_lexer": "ipython3",
   "version": "3.9.13"
  }
 },
 "nbformat": 4,
 "nbformat_minor": 5
}
