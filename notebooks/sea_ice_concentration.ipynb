{
 "cells": [
  {
   "cell_type": "markdown",
   "id": "2461df07-e506-47a8-8c46-84acef2e4dbf",
   "metadata": {},
   "source": [
    "# Estimating the sea ice concentration at buoy locations using the NSIDC Climate Data Record of Sea Ice Concentration\n",
    "\n",
    "The SIC data is stored in a netCDF file. The data has coordinates \"xgrid\" and \"ygrid\" that are in the North Polar Stereographic coordinate system. So to interpolate this to buoy positions, we'll need to first find the x, y positions of the buoys. In addition, the data is at daily resolution. We'll need to pull out the buoy position at 12 UTC for each day or use a daily average position (either is fine) to line up the data."
   ]
  },
  {
   "cell_type": "code",
   "execution_count": 82,
   "id": "0129f2e3-8be2-4887-b58f-3ffcce26f234",
   "metadata": {},
   "outputs": [],
   "source": [
    "import xarray as xr\n",
    "import pandas as pd\n",
    "import pyproj\n",
    "import os\n",
    "import sys\n",
    "import numpy as np\n",
    "\n",
    "# Add the path to icedrift package\n",
    "sys.path.append('/Users/dwatkin2/Documents/research/packages/buoy_processing/icedrift/src/')\n",
    "from icedrift.interpolation import interpolate_buoy_track\n",
    "\n",
    "# SIC data from NSIDC\n",
    "sic_data = xr.open_dataset('../data/nsidc_sic/nsidc_daily_sic_cdr_2015.nc')\n",
    "\n",
    "# Reformat NSIDC data for convenience with interpolation -- essentially renaming coordinates and dimensions\n",
    "ds = xr.Dataset({'sea_ice_concentration': (('time', 'y', 'x'), sic_data['cdr_seaice_conc'].data)},\n",
    "           coords={'time': ('time', pd.to_datetime(sic_data.time.data)),\n",
    "                   'x': ('x', sic_data['xgrid'].data),\n",
    "                   'y': ('y', sic_data['ygrid'].data)\n",
    "                 })"
   ]
  },
  {
   "cell_type": "code",
   "execution_count": 84,
   "id": "69058cfe-c3a1-46b6-8af8-e401e2a5010c",
   "metadata": {},
   "outputs": [],
   "source": [
    "def sic_along_track(position_data, sic_data):\n",
    "    \"\"\"Uses the xarray advanced interpolation to get along-track sic\n",
    "    via nearest neighbors.\"\"\"\n",
    "    # Sea ice concentration uses NSIDC NP Stereographic\n",
    "    crs0 = pyproj.CRS('WGS84')\n",
    "    crs1 = pyproj.CRS('+proj=stere +lat_0=90 +lat_ts=70 +lon_0=-45 +k=1 +x_0=0 +y_0=0 +a=6378273 +b=6356889.449 +units=m +no_defs')\n",
    "    transformer_stere = pyproj.Transformer.from_crs(crs0, crs_to=crs1, always_xy=True)\n",
    "    \n",
    "    sic = pd.Series(data=np.nan, index=position_data.index)\n",
    "    \n",
    "    for date, group in position_data.groupby(position_data.datetime.dt.date):\n",
    "        x_stere, y_stere = transformer_stere.transform(\n",
    "            group.longitude, group.latitude)\n",
    "        \n",
    "        x = xr.DataArray(x_stere, dims=\"z\")\n",
    "        y = xr.DataArray(y_stere, dims=\"z\")\n",
    "        SIC = sic_data.sel(time=date.strftime('%Y-%m-%d'))['sea_ice_concentration'].interp(\n",
    "            {'x': x,\n",
    "             'y': y}, method='nearest').data\n",
    "\n",
    "        sic.loc[group.index] = np.round(SIC.T, 3)\n",
    "    sic[sic > 100] = np.nan\n",
    "    return sic"
   ]
  },
  {
   "cell_type": "code",
   "execution_count": 15,
   "id": "209370ef-60b4-416c-9325-f017a73e7830",
   "metadata": {},
   "outputs": [],
   "source": [
    "# Load buoy data\n",
    "drift_tracks_loc = \"../data/buoy_data/n-ice2015/\"\n",
    "files = os.listdir(drift_tracks_loc)\n",
    "files = [f for f in files if f.split('.')[-1] == 'csv']\n",
    "files = [f for f in files if f.split('_')[0] != 'DN']\n",
    "buoy_data = {file.replace('.csv', '').split('_')[-1]: \n",
    "             pd.read_csv(drift_tracks_loc + file, index_col=0,\n",
    "                         parse_dates=True)\n",
    "             for file in files}\n",
    "buoy_data = {b: buoy_data[b] for b in buoy_data}"
   ]
  },
  {
   "cell_type": "code",
   "execution_count": 27,
   "id": "8626a354-30d3-47e6-80e3-047b3ea7374a",
   "metadata": {},
   "outputs": [],
   "source": [
    "# Interpolate to hourly\n",
    "buoy_data_interp = {}\n",
    "for b in buoy_data:\n",
    "    buoy_data_interp[b] = interpolate_buoy_track(buoy_data['2015c'], freq='1h', maxgap_minutes=240).loc[:, ['longitude', 'latitude']]"
   ]
  },
  {
   "cell_type": "code",
   "execution_count": 32,
   "id": "6a9f06cf-1f04-4837-8bb3-2c5dbd1deedd",
   "metadata": {},
   "outputs": [
    {
     "data": {
      "text/html": [
       "<div>\n",
       "<style scoped>\n",
       "    .dataframe tbody tr th:only-of-type {\n",
       "        vertical-align: middle;\n",
       "    }\n",
       "\n",
       "    .dataframe tbody tr th {\n",
       "        vertical-align: top;\n",
       "    }\n",
       "\n",
       "    .dataframe thead th {\n",
       "        text-align: right;\n",
       "    }\n",
       "</style>\n",
       "<table border=\"1\" class=\"dataframe\">\n",
       "  <thead>\n",
       "    <tr style=\"text-align: right;\">\n",
       "      <th></th>\n",
       "      <th>longitude</th>\n",
       "      <th>latitude</th>\n",
       "    </tr>\n",
       "    <tr>\n",
       "      <th>datetime</th>\n",
       "      <th></th>\n",
       "      <th></th>\n",
       "    </tr>\n",
       "  </thead>\n",
       "  <tbody>\n",
       "    <tr>\n",
       "      <th>2015-04-21 12:00:00</th>\n",
       "      <td>17.3098</td>\n",
       "      <td>83.0976</td>\n",
       "    </tr>\n",
       "    <tr>\n",
       "      <th>2015-04-22 12:00:00</th>\n",
       "      <td>17.8458</td>\n",
       "      <td>83.0172</td>\n",
       "    </tr>\n",
       "    <tr>\n",
       "      <th>2015-04-23 12:00:00</th>\n",
       "      <td>17.6644</td>\n",
       "      <td>82.9760</td>\n",
       "    </tr>\n",
       "    <tr>\n",
       "      <th>2015-04-24 12:00:00</th>\n",
       "      <td>16.5700</td>\n",
       "      <td>82.8976</td>\n",
       "    </tr>\n",
       "    <tr>\n",
       "      <th>2015-04-25 12:00:00</th>\n",
       "      <td>16.6114</td>\n",
       "      <td>82.7752</td>\n",
       "    </tr>\n",
       "  </tbody>\n",
       "</table>\n",
       "</div>"
      ],
      "text/plain": [
       "                     longitude  latitude\n",
       "datetime                                \n",
       "2015-04-21 12:00:00    17.3098   83.0976\n",
       "2015-04-22 12:00:00    17.8458   83.0172\n",
       "2015-04-23 12:00:00    17.6644   82.9760\n",
       "2015-04-24 12:00:00    16.5700   82.8976\n",
       "2015-04-25 12:00:00    16.6114   82.7752"
      ]
     },
     "execution_count": 32,
     "metadata": {},
     "output_type": "execute_result"
    }
   ],
   "source": [
    "# We can use the resample function to pull out the data at 12 UTC\n",
    "df_exmpl = buoy_data_interp[b].resample('24h', origin='12:00').asfreq().dropna()\n",
    "df_exmpl.head()"
   ]
  },
  {
   "cell_type": "code",
   "execution_count": 44,
   "id": "4aacc009-54bb-42a1-86d6-aa389493882f",
   "metadata": {},
   "outputs": [],
   "source": [
    "daily_list = {}\n",
    "for b in buoy_data_interp:\n",
    "    daily_list[b] = buoy_data_interp[b].resample('24h', origin='12:00').asfreq().dropna()\n",
    "    \n",
    "all_positions_daily = pd.concat(daily_list)"
   ]
  },
  {
   "cell_type": "code",
   "execution_count": 45,
   "id": "25f7dfdc-e365-4d9e-88c2-42f3a218d7ee",
   "metadata": {},
   "outputs": [],
   "source": [
    "# These steps make the index \"flat\" and change the name from the uninformative default value\n",
    "all_positions_daily.reset_index(drop=False, inplace=True)\n",
    "all_positions_daily.rename({'level_0': 'buoy_id'}, axis=1, inplace=True)"
   ]
  },
  {
   "cell_type": "code",
   "execution_count": 86,
   "id": "4186e488-8e64-47d5-91c5-04d8ea9c680c",
   "metadata": {},
   "outputs": [],
   "source": [
    "all_positions_daily['sea_ice_concentration'] = sic_along_track(all_positions_daily, ds)"
   ]
  },
  {
   "cell_type": "code",
   "execution_count": 90,
   "id": "fa24c010-7335-4d3e-a73c-5da0c5a0a76d",
   "metadata": {},
   "outputs": [],
   "source": [
    "# If desired, you can now turn it back into a dictionary with buoy ID's as keys\n",
    "buoy_data_daily = {b: data for b, data in all_positions_daily.groupby('buoy_id')}"
   ]
  },
  {
   "cell_type": "code",
   "execution_count": 92,
   "id": "46070924-d885-4012-a4cc-3cd47bbc36e6",
   "metadata": {},
   "outputs": [
    {
     "data": {
      "text/html": [
       "<div>\n",
       "<style scoped>\n",
       "    .dataframe tbody tr th:only-of-type {\n",
       "        vertical-align: middle;\n",
       "    }\n",
       "\n",
       "    .dataframe tbody tr th {\n",
       "        vertical-align: top;\n",
       "    }\n",
       "\n",
       "    .dataframe thead th {\n",
       "        text-align: right;\n",
       "    }\n",
       "</style>\n",
       "<table border=\"1\" class=\"dataframe\">\n",
       "  <thead>\n",
       "    <tr style=\"text-align: right;\">\n",
       "      <th></th>\n",
       "      <th>buoy_id</th>\n",
       "      <th>datetime</th>\n",
       "      <th>longitude</th>\n",
       "      <th>latitude</th>\n",
       "      <th>sea_ice_concentration</th>\n",
       "    </tr>\n",
       "  </thead>\n",
       "  <tbody>\n",
       "    <tr>\n",
       "      <th>0</th>\n",
       "      <td>2015c</td>\n",
       "      <td>2015-04-21 12:00:00</td>\n",
       "      <td>17.3098</td>\n",
       "      <td>83.0976</td>\n",
       "      <td>1.0</td>\n",
       "    </tr>\n",
       "    <tr>\n",
       "      <th>1</th>\n",
       "      <td>2015c</td>\n",
       "      <td>2015-04-22 12:00:00</td>\n",
       "      <td>17.8458</td>\n",
       "      <td>83.0172</td>\n",
       "      <td>1.0</td>\n",
       "    </tr>\n",
       "    <tr>\n",
       "      <th>2</th>\n",
       "      <td>2015c</td>\n",
       "      <td>2015-04-23 12:00:00</td>\n",
       "      <td>17.6644</td>\n",
       "      <td>82.9760</td>\n",
       "      <td>1.0</td>\n",
       "    </tr>\n",
       "    <tr>\n",
       "      <th>3</th>\n",
       "      <td>2015c</td>\n",
       "      <td>2015-04-24 12:00:00</td>\n",
       "      <td>16.5700</td>\n",
       "      <td>82.8976</td>\n",
       "      <td>1.0</td>\n",
       "    </tr>\n",
       "    <tr>\n",
       "      <th>4</th>\n",
       "      <td>2015c</td>\n",
       "      <td>2015-04-25 12:00:00</td>\n",
       "      <td>16.6114</td>\n",
       "      <td>82.7752</td>\n",
       "      <td>1.0</td>\n",
       "    </tr>\n",
       "  </tbody>\n",
       "</table>\n",
       "</div>"
      ],
      "text/plain": [
       "  buoy_id            datetime  longitude  latitude  sea_ice_concentration\n",
       "0   2015c 2015-04-21 12:00:00    17.3098   83.0976                    1.0\n",
       "1   2015c 2015-04-22 12:00:00    17.8458   83.0172                    1.0\n",
       "2   2015c 2015-04-23 12:00:00    17.6644   82.9760                    1.0\n",
       "3   2015c 2015-04-24 12:00:00    16.5700   82.8976                    1.0\n",
       "4   2015c 2015-04-25 12:00:00    16.6114   82.7752                    1.0"
      ]
     },
     "execution_count": 92,
     "metadata": {},
     "output_type": "execute_result"
    }
   ],
   "source": [
    "buoy_data_daily['2015c'].head()"
   ]
  },
  {
   "cell_type": "markdown",
   "id": "d7e289a7-c10f-4514-b42b-d750c8f76c91",
   "metadata": {},
   "source": [
    "Some things to note:\n",
    "- Sea ice concentration goes from 0 to 1.\n",
    "- The variable may have higher values: these are codes for different masks.\n",
    "  - 2.51 = pole hole (area with no satellite coverage near the north pole)\n",
    "  - 2.52 = lakes\n",
    "  - 2.53 = coast\n",
    "  - 2.54 = land\n",
    "  - 2.55 = missing"
   ]
  }
 ],
 "metadata": {
  "kernelspec": {
   "display_name": "Python 3 (ipykernel)",
   "language": "python",
   "name": "python3"
  },
  "language_info": {
   "codemirror_mode": {
    "name": "ipython",
    "version": 3
   },
   "file_extension": ".py",
   "mimetype": "text/x-python",
   "name": "python",
   "nbconvert_exporter": "python",
   "pygments_lexer": "ipython3",
   "version": "3.9.13"
  }
 },
 "nbformat": 4,
 "nbformat_minor": 5
}
